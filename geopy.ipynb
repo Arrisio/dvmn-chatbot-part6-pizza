{
 "cells": [
  {
   "cell_type": "code",
   "execution_count": 1,
   "metadata": {
    "scrolled": false
   },
   "outputs": [
    {
     "name": "stdout",
     "output_type": "stream",
     "text": [
      "Collecting geopy\n",
      "  Downloading geopy-2.1.0-py3-none-any.whl (112 kB)\n",
      "Collecting geographiclib<2,>=1.49\n",
      "  Downloading geographiclib-1.50-py3-none-any.whl (38 kB)\n",
      "Installing collected packages: geographiclib, geopy\n",
      "Successfully installed geographiclib-1.50 geopy-2.1.0\n"
     ]
    }
   ],
   "source": [
    "!pip install geopy"
   ]
  },
  {
   "cell_type": "code",
   "execution_count": 20,
   "metadata": {},
   "outputs": [],
   "source": [
    "import geopy\n",
    "import httpx\n",
    "from dataclasses import dataclass"
   ]
  },
  {
   "cell_type": "code",
   "execution_count": 3,
   "metadata": {},
   "outputs": [],
   "source": [
    "geocoder = geopy.geocoders.Yandex(\n",
    "    api_key=\"b761d367-b9c1-440f-ae51-0e7c9655e58f\"\n",
    ")"
   ]
  },
  {
   "cell_type": "code",
   "execution_count": 5,
   "metadata": {},
   "outputs": [],
   "source": [
    "\n"
   ]
  },
  {
   "cell_type": "code",
   "execution_count": 8,
   "metadata": {},
   "outputs": [
    {
     "data": {
      "text/plain": [
       "55.795778"
      ]
     },
     "execution_count": 8,
     "metadata": {},
     "output_type": "execute_result"
    }
   ],
   "source": [
    "res.latitude"
   ]
  },
  {
   "cell_type": "code",
   "execution_count": 13,
   "metadata": {},
   "outputs": [
    {
     "name": "stdout",
     "output_type": "stream",
     "text": [
      "<Response [200 OK]>\n"
     ]
    },
    {
     "data": {
      "text/plain": [
       "{'expires_in': 3600,\n",
       " 'identifier': 'implicit',\n",
       " 'access_token': 'a2c7d9444054e83546c3f1e6f30bd0f85bf55903',\n",
       " 'token_type': 'Bearer',\n",
       " 'expires': 1624296057}"
      ]
     },
     "execution_count": 13,
     "metadata": {},
     "output_type": "execute_result"
    }
   ],
   "source": [
    "client = httpx.Client(http2=True, base_url='https://api.moltin.com')\n",
    "data = {\n",
    "  'client_id': 'vDQAYHUgczDyOu1YhlSRJTSzAsKdDaG9G5xs9SOzt3',\n",
    "  'grant_type': 'implicit'\n",
    "}\n",
    "\n",
    "response = client.post('/oauth/access_token', data=data, )\n",
    "print(response)\n",
    "token = response.json()['access_token']\n",
    "headers = {\n",
    "    'Authorization': f'Bearer {token}',\n",
    "    'Content-Type': 'application/json',\n",
    "}\n",
    "client.headers=headers\n",
    "response.json()"
   ]
  },
  {
   "cell_type": "code",
   "execution_count": 15,
   "metadata": {},
   "outputs": [],
   "source": [
    "def get_pizzerias():\n",
    "    r= client.get(\n",
    "        url='/v2/flows/pizzeria/entries'\n",
    "    )\n",
    "    return [\n",
    "        \n",
    "    ]\n",
    "\n",
    "r=get_pizzerias()"
   ]
  },
  {
   "cell_type": "code",
   "execution_count": 52,
   "metadata": {},
   "outputs": [],
   "source": [
    "@dataclass\n",
    "class Pizzeria:\n",
    "    address: str\n",
    "    alias: str\n",
    "\n",
    "    geopoint:Point()\n",
    "#     longitude: float\n",
    "#     latitude: float\n"
   ]
  },
  {
   "cell_type": "code",
   "execution_count": 75,
   "metadata": {
    "scrolled": true
   },
   "outputs": [
    {
     "data": {
      "text/plain": [
       "<Response [200 OK]>"
      ]
     },
     "execution_count": 75,
     "metadata": {},
     "output_type": "execute_result"
    }
   ],
   "source": [
    "r= client.get(url='/v2/flows/pizzeria/entries'    )\n",
    "r"
   ]
  },
  {
   "cell_type": "code",
   "execution_count": 77,
   "metadata": {},
   "outputs": [
    {
     "data": {
      "text/plain": [
       "[{'id': '80988a6f-a373-4a81-9859-678a9259d5a9',\n",
       "  'type': 'entry',\n",
       "  'Address': 'Долгопрудный, проспект Лихачевский дом 64',\n",
       "  'Alias': 'Долгопрудный, ТЦ Конфитюр',\n",
       "  'Longitude': 37.494153,\n",
       "  'Latitude': 55.931235,\n",
       "  'meta': {'timestamps': {'created_at': '2021-06-21T16:16:38.968Z',\n",
       "    'updated_at': '2021-06-21T16:16:38.968Z'}},\n",
       "  'links': {'self': 'https://api.moltin.com/v2/flows/pizzeria/entries/80988a6f-a373-4a81-9859-678a9259d5a9'}},\n",
       " {'id': 'e5b482aa-e42c-4644-ae55-91e59d922a18',\n",
       "  'type': 'entry',\n",
       "  'Address': 'Москва, улица Профсоюзная дом 152к2стр2',\n",
       "  'Alias': 'Теплый Стан',\n",
       "  'Longitude': 37.506253,\n",
       "  'Latitude': 55.622827,\n",
       "  'meta': {'timestamps': {'created_at': '2021-06-21T16:15:34.380Z',\n",
       "    'updated_at': '2021-06-21T16:15:34.380Z'}},\n",
       "  'links': {'self': 'https://api.moltin.com/v2/flows/pizzeria/entries/e5b482aa-e42c-4644-ae55-91e59d922a18'}},\n",
       " {'id': '282cd027-da02-48d5-ad85-1aa91a0ebd46',\n",
       "  'type': 'entry',\n",
       "  'Address': 'Москва, проспект Новоясеневский дом вл7',\n",
       "  'Alias': 'Ясенево',\n",
       "  'Longitude': 37.532367,\n",
       "  'Latitude': 55.607489,\n",
       "  'meta': {'timestamps': {'created_at': '2021-06-21T16:15:00.105Z',\n",
       "    'updated_at': '2021-06-21T16:15:00.105Z'}},\n",
       "  'links': {'self': 'https://api.moltin.com/v2/flows/pizzeria/entries/282cd027-da02-48d5-ad85-1aa91a0ebd46'}},\n",
       " {'id': '01d9889f-7a76-4092-8863-dab73045825c',\n",
       "  'type': 'entry',\n",
       "  'Address': 'Москва, набережная Пресненская дом 2',\n",
       "  'Alias': 'Афимолл',\n",
       "  'Longitude': 37.539644,\n",
       "  'Latitude': 55.749299,\n",
       "  'meta': {'timestamps': {'created_at': '2021-06-18T13:23:19.573Z',\n",
       "    'updated_at': '2021-06-18T13:23:37.288Z'}},\n",
       "  'links': {'self': 'https://api.moltin.com/v2/flows/pizzeria/entries/01d9889f-7a76-4092-8863-dab73045825c'}}]"
      ]
     },
     "execution_count": 77,
     "metadata": {},
     "output_type": "execute_result"
    }
   ],
   "source": [
    "r.json()['data']"
   ]
  },
  {
   "cell_type": "code",
   "execution_count": 53,
   "metadata": {},
   "outputs": [],
   "source": [
    "pizzeria_list = [\n",
    "    Pizzeria(address=p['Address'],alias=p['Alias'],geopoint=Point(longitude=p['Longitude'],latitude=p['Latitude']))\n",
    "     for p in r.json()['data']\n",
    "]\n"
   ]
  },
  {
   "cell_type": "code",
   "execution_count": 47,
   "metadata": {},
   "outputs": [],
   "source": [
    "min([2,1,3], key=lambda x: -x)\n",
    "from geopy import distance, Point"
   ]
  },
  {
   "cell_type": "code",
   "execution_count": 84,
   "metadata": {},
   "outputs": [
    {
     "data": {
      "text/plain": [
       "{'metaDataProperty': {'GeocoderMetaData': {'precision': 'exact',\n",
       "   'text': 'Россия, Москва, Романов переулок, 5',\n",
       "   'kind': 'house',\n",
       "   'Address': {'country_code': 'RU',\n",
       "    'formatted': 'Россия, Москва, Романов переулок, 5',\n",
       "    'postal_code': '125009',\n",
       "    'Components': [{'kind': 'country', 'name': 'Россия'},\n",
       "     {'kind': 'province', 'name': 'Центральный федеральный округ'},\n",
       "     {'kind': 'province', 'name': 'Москва'},\n",
       "     {'kind': 'locality', 'name': 'Москва'},\n",
       "     {'kind': 'street', 'name': 'Романов переулок'},\n",
       "     {'kind': 'house', 'name': '5'}]},\n",
       "   'AddressDetails': {'Country': {'AddressLine': 'Россия, Москва, Романов переулок, 5',\n",
       "     'CountryNameCode': 'RU',\n",
       "     'CountryName': 'Россия',\n",
       "     'AdministrativeArea': {'AdministrativeAreaName': 'Москва',\n",
       "      'Locality': {'LocalityName': 'Москва',\n",
       "       'Thoroughfare': {'ThoroughfareName': 'Романов переулок',\n",
       "        'Premise': {'PremiseNumber': '5',\n",
       "         'PostalCode': {'PostalCodeNumber': '125009'}}}}}}}}},\n",
       " 'name': 'Романов переулок, 5',\n",
       " 'description': 'Москва, Россия',\n",
       " 'boundedBy': {'Envelope': {'lowerCorner': '37.603828 55.752166',\n",
       "   'upperCorner': '37.612039 55.756797'}},\n",
       " 'Point': {'pos': '37.607933 55.754481'}}"
      ]
     },
     "execution_count": 84,
     "metadata": {},
     "output_type": "execute_result"
    }
   ],
   "source": [
    "res.raw="
   ]
  },
  {
   "cell_type": "code",
   "execution_count": 92,
   "metadata": {},
   "outputs": [],
   "source": [
    "res = geocoder.geocode(\n",
    "    query=\"Мос@@fdg@,\",\n",
    "    exactly_one=True\n",
    ")"
   ]
  },
  {
   "cell_type": "code",
   "execution_count": 74,
   "metadata": {},
   "outputs": [
    {
     "data": {
      "text/plain": [
       "{'pizzeria': Pizzeria(address='Москва, набережная Пресненская дом 2', alias='Афимолл', geopoint=Point(55.749299, 37.539644, 0.0)),\n",
       " 'distance': 4.326635877684709}"
      ]
     },
     "execution_count": 74,
     "metadata": {},
     "output_type": "execute_result"
    }
   ],
   "source": [
    "res = geocoder.geocode(\n",
    "    query=\"Мос@@fdg@,\n",
    "    exactly_one=True\n",
    ")\n",
    "\n",
    "def find_nearest(location):\n",
    "#     location=Point(longitude=longitude,latitude=latitude)\n",
    "    return min([{        \n",
    "        \"pizzeria\":pizzeria, 'distance':distance.distance(pizzeria.geopoint, location.point).km\n",
    "    } for pizzeria in  pizzeria_list], key=lambda x:x['distance'])\n",
    "\n",
    "find_nearest(res)"
   ]
  }
 ],
 "metadata": {
  "kernelspec": {
   "display_name": "Python 3",
   "language": "python",
   "name": "python3"
  },
  "language_info": {
   "codemirror_mode": {
    "name": "ipython",
    "version": 3
   },
   "file_extension": ".py",
   "mimetype": "text/x-python",
   "name": "python",
   "nbconvert_exporter": "python",
   "pygments_lexer": "ipython3",
   "version": "3.8.3"
  }
 },
 "nbformat": 4,
 "nbformat_minor": 4
}
